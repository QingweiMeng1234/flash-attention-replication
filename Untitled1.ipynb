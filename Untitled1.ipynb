{
 "cells": [
  {
   "cell_type": "code",
   "execution_count": 1,
   "metadata": {},
   "outputs": [
    {
     "name": "stdout",
     "output_type": "stream",
     "text": [
      "updating: README.md (deflated 28%)\n",
      "updating: Untitled.ipynb (deflated 80%)\n",
      "updating: Untitled1.ipynb (deflated 77%)\n",
      "updating: __pycache__/ (stored 0%)\n",
      "updating: __pycache__/transformer.cpython-38.pyc (deflated 54%)\n",
      "updating: __pycache__/utils.cpython-38.pyc (deflated 47%)\n",
      "updating: __pycache__/main.cpython-38.pyc (deflated 49%)\n",
      "updating: __pycache__/layers.cpython-38.pyc (deflated 55%)\n",
      "updating: data/ (stored 0%)\n",
      "updating: data/multi30k/ (stored 0%)\n",
      "updating: data/multi30k/._test.de (deflated 43%)\n",
      "updating: data/multi30k/mmt16_task1_test.tar.gz (deflated 0%)\n",
      "updating: data/multi30k/validation.tar.gz (deflated 0%)\n",
      "updating: data/multi30k/._test.en (deflated 43%)\n",
      "updating: data/multi30k/val.de (deflated 68%)\n",
      "updating: data/multi30k/val.en (deflated 66%)\n",
      "updating: data/multi30k/test.de (deflated 68%)\n",
      "updating: data/multi30k/._test.fr (deflated 43%)\n",
      "updating: data/multi30k/train.en (deflated 68%)\n",
      "updating: data/multi30k/train.de (deflated 70%)\n",
      "updating: data/multi30k/training.tar.gz (deflated 0%)\n",
      "updating: data/multi30k/test.en (deflated 66%)\n",
      "updating: data/multi30k/test.fr (deflated 69%)\n",
      "updating: hw2.tex (deflated 63%)\n",
      "updating: layers.py (deflated 70%)\n",
      "updating: main.py (deflated 71%)\n",
      "updating: out_greedy.txt (deflated 59%)\n",
      "updating: requirements.txt (deflated 26%)\n",
      "updating: test.py (deflated 72%)\n",
      "updating: transformer.py (deflated 70%)\n",
      "updating: utils.py (deflated 68%)\n",
      "updating: vocab.pt (deflated 59%)\n",
      "updating: out_beam.txt (deflated 59%)\n"
     ]
    }
   ],
   "source": [
    "zip -r output_filename.zip * -x \"multi30k*\""
   ]
  },
  {
   "cell_type": "code",
   "execution_count": 1,
   "metadata": {},
   "outputs": [
    {
     "name": "stdout",
     "output_type": "stream",
     "text": [
      "updating: README.md (deflated 28%)\n",
      "updating: Untitled.ipynb (deflated 72%)\n",
      "updating: __pycache__/ (stored 0%)\n",
      "updating: __pycache__/transformer.cpython-38.pyc (deflated 53%)\n",
      "updating: __pycache__/utils.cpython-38.pyc (deflated 47%)\n",
      "updating: __pycache__/main.cpython-38.pyc (deflated 48%)\n",
      "updating: __pycache__/layers.cpython-38.pyc (deflated 54%)\n",
      "updating: data/ (stored 0%)\n",
      "updating: data/multi30k/ (stored 0%)\n",
      "updating: data/multi30k/._test.de (deflated 43%)\n",
      "updating: data/multi30k/mmt16_task1_test.tar.gz (deflated 0%)\n",
      "updating: data/multi30k/validation.tar.gz (deflated 0%)\n",
      "updating: data/multi30k/._test.en (deflated 43%)\n",
      "updating: data/multi30k/val.de (deflated 65%)\n",
      "updating: data/multi30k/val.en (deflated 64%)\n",
      "updating: data/multi30k/test.de (deflated 66%)\n",
      "updating: data/multi30k/._test.fr (deflated 43%)\n",
      "updating: data/multi30k/train.en (deflated 66%)\n",
      "updating: data/multi30k/train.de (deflated 67%)\n",
      "updating: data/multi30k/training.tar.gz (deflated 0%)\n",
      "updating: data/multi30k/test.en (deflated 64%)\n",
      "updating: data/multi30k/test.fr (deflated 67%)\n",
      "updating: hw2.tex (deflated 62%)\n",
      "updating: layers.py (deflated 69%)\n",
      "updating: main.py (deflated 70%)\n",
      "updating: out_greedy.txt (deflated 92%)\n",
      "updating: requirements.txt (deflated 26%)\n",
      "updating: test.py (deflated 71%)\n",
      "updating: transformer.py (deflated 69%)\n",
      "updating: utils.py (deflated 68%)\n",
      "updating: vocab.pt (deflated 58%)\n",
      "  adding: Untitled1.ipynb (deflated 22%)\n"
     ]
    }
   ],
   "source": [
    "zip -4r hw2.zip *"
   ]
  },
  {
   "cell_type": "code",
   "execution_count": 5,
   "metadata": {},
   "outputs": [
    {
     "name": "stdout",
     "output_type": "stream",
     "text": [
      "==========   Attention Unit Test 1 Passed   ==========\n",
      "==========   Attention Unit Test 2 Passed   ==========\n",
      "tensor([[1., 1., 1., 1., 1., 1., 1., 1., 1., 0.],\n",
      "        [1., 1., 1., 1., 1., 1., 1., 1., 1., 0.],\n",
      "        [1., 1., 1., 1., 1., 1., 1., 1., 1., 0.]])\n",
      "tensor([[[0.7807, 0.5983, 0.8049, 0.8047, 0.6327, 0.7849, 1.0455, 0.7861,\n",
      "          0.6944, 0.7315],\n",
      "         [0.7729, 0.5506, 0.7342, 0.6915, 0.6021, 0.7371, 0.9930, 0.9474,\n",
      "          0.8182, 0.6332],\n",
      "         [0.9608, 0.7741, 1.0394, 0.7668, 0.7195, 0.9478, 1.2139, 1.0926,\n",
      "          0.8182, 0.7906],\n",
      "         [0.9789, 0.7709, 0.9677, 0.9429, 0.9677, 0.8110, 1.2557, 1.1205,\n",
      "          0.8846, 1.0139],\n",
      "         [0.8966, 0.7320, 1.0186, 0.7387, 0.8466, 0.8825, 1.0791, 1.0409,\n",
      "          0.7635, 1.0033],\n",
      "         [0.9142, 0.6839, 0.9632, 0.8299, 0.6645, 0.9246, 1.1118, 0.9186,\n",
      "          0.7680, 0.8517],\n",
      "         [0.5978, 0.5554, 0.8989, 0.3556, 0.4866, 0.7035, 0.8806, 1.0273,\n",
      "          0.4889, 0.5701],\n",
      "         [0.9922, 0.7324, 0.8489, 1.0297, 0.8106, 0.7166, 1.1438, 0.6535,\n",
      "          0.7638, 0.8195],\n",
      "         [1.1057, 0.8881, 1.2705, 0.8996, 0.9752, 1.1752, 1.4367, 1.2584,\n",
      "          0.8670, 1.1460],\n",
      "         [0.8398, 0.6615, 0.8596, 0.6535, 0.7192, 0.6910, 0.9708, 0.7128,\n",
      "          0.5662, 0.7188]],\n",
      "\n",
      "        [[0.8143, 1.1802, 0.7699, 1.1204, 1.0871, 0.8566, 0.7073, 0.9499,\n",
      "          1.0936, 0.9801],\n",
      "         [0.6604, 0.7854, 0.4964, 0.7944, 0.8062, 0.5603, 0.4501, 0.8535,\n",
      "          0.8959, 0.6266],\n",
      "         [0.5461, 0.8083, 0.4784, 0.7669, 0.6750, 0.6494, 0.3909, 0.6854,\n",
      "          0.8316, 0.5628],\n",
      "         [0.5708, 0.6932, 0.5276, 0.6416, 0.8562, 0.5659, 0.3028, 0.8955,\n",
      "          0.6971, 0.5057],\n",
      "         [0.4087, 0.5588, 0.4359, 0.5439, 0.5564, 0.4362, 0.3611, 0.7927,\n",
      "          0.6277, 0.4302],\n",
      "         [0.9327, 0.9079, 0.7891, 0.9086, 1.2540, 0.5912, 0.6765, 1.2225,\n",
      "          1.1597, 0.9607],\n",
      "         [0.3826, 0.5255, 0.2835, 0.6245, 0.5584, 0.4739, 0.4011, 0.5825,\n",
      "          0.7215, 0.3486],\n",
      "         [0.8093, 0.9941, 0.6084, 0.9252, 0.9769, 0.5448, 0.6105, 0.8107,\n",
      "          1.0003, 0.8995],\n",
      "         [0.5501, 0.8394, 0.5407, 0.8643, 0.7210, 0.6508, 0.5683, 0.8316,\n",
      "          0.8222, 0.6271],\n",
      "         [0.7568, 0.9323, 0.4635, 1.0069, 0.7391, 0.6116, 0.5443, 0.8844,\n",
      "          0.9809, 0.6583]],\n",
      "\n",
      "        [[0.8861, 0.7269, 0.8751, 1.2246, 1.0151, 0.7702, 1.2969, 0.7214,\n",
      "          0.8926, 0.9423],\n",
      "         [0.9569, 0.7690, 0.8257, 0.8954, 0.8109, 0.6325, 1.0652, 0.5242,\n",
      "          0.8136, 0.7484],\n",
      "         [0.6758, 0.5744, 0.6175, 0.7768, 0.7721, 0.5047, 0.7900, 0.5643,\n",
      "          0.5702, 0.7322],\n",
      "         [0.8358, 0.5585, 0.7698, 0.7991, 0.7790, 0.4529, 0.7375, 0.4882,\n",
      "          0.6144, 0.5966],\n",
      "         [0.9217, 0.6314, 0.8126, 0.8509, 0.6814, 0.5930, 0.9676, 0.5018,\n",
      "          0.8359, 0.6278],\n",
      "         [0.6418, 0.6728, 0.5928, 0.7102, 0.6097, 0.5811, 0.9402, 0.4567,\n",
      "          0.6291, 0.7002],\n",
      "         [0.8630, 0.7008, 0.7519, 0.7895, 0.6198, 0.5326, 1.0183, 0.6104,\n",
      "          0.8969, 0.7078],\n",
      "         [1.0273, 0.8083, 0.9382, 1.0028, 0.9263, 0.5693, 1.0325, 0.6263,\n",
      "          0.8768, 0.7858],\n",
      "         [0.8247, 0.6239, 0.5789, 0.8430, 0.7581, 0.4595, 1.0040, 0.7170,\n",
      "          0.8465, 0.7004],\n",
      "         [1.0426, 0.8234, 0.7761, 0.9523, 0.7661, 0.6335, 1.2328, 0.6924,\n",
      "          1.1556, 0.7043]]])\n",
      "Traceback (most recent call last):\n",
      "  File \"test.py\", line 138, in <module>\n",
      "    test_attention()\n",
      "  File \"test.py\", line 26, in test_attention\n",
      "    out, attn = attention(query, key, value, mask=mask)\n",
      "  File \"/home/qm351/hw2/layers.py\", line 94, in attention\n",
      "    scores = scores.masked_fill(mask == 0, float('-inf'))\n",
      "RuntimeError: The size of tensor a (3) must match the size of tensor b (10) at non-singleton dimension 1\n"
     ]
    },
    {
     "ename": "",
     "evalue": "1",
     "output_type": "error",
     "traceback": []
    }
   ],
   "source": [
    "python test.py --attention"
   ]
  },
  {
   "cell_type": "code",
   "execution_count": null,
   "metadata": {},
   "outputs": [],
   "source": []
  }
 ],
 "metadata": {
  "kernelspec": {
   "display_name": "Bash",
   "language": "bash",
   "name": "bash"
  },
  "language_info": {
   "codemirror_mode": "shell",
   "file_extension": ".sh",
   "mimetype": "text/x-sh",
   "name": "bash"
  }
 },
 "nbformat": 4,
 "nbformat_minor": 4
}
